{
 "cells": [
  {
   "cell_type": "markdown",
   "id": "1cc4d085",
   "metadata": {},
   "source": [
    "# TODO\n",
    "\n",
    "[] Review it again to resolve errors \\\n",
    "[] Attempt rythmic dmp"
   ]
  },
  {
   "cell_type": "markdown",
   "id": "42c5b88b",
   "metadata": {},
   "source": [
    "#### Team members:\n",
    "* Ekansh Sharma"
   ]
  },
  {
   "cell_type": "code",
   "execution_count": 8,
   "id": "97a20441",
   "metadata": {
    "deletable": false,
    "editable": false,
    "nbgrader": {
     "cell_type": "code",
     "checksum": "32ed05c5ad27fbcedf28b911838a0dd1",
     "grade": false,
     "grade_id": "cell-3a71bab6654dd369",
     "locked": true,
     "schema_version": 3,
     "solution": false,
     "task": false
    }
   },
   "outputs": [],
   "source": [
    "### General imports\n",
    "import numpy as np\n",
    "import matplotlib.pyplot as plt\n",
    "from mpl_toolkits.mplot3d import Axes3D"
   ]
  },
  {
   "cell_type": "markdown",
   "id": "f3bef47f",
   "metadata": {
    "deletable": false,
    "editable": false,
    "nbgrader": {
     "cell_type": "markdown",
     "checksum": "85609b7a33538f2a741d8d79ed345bb8",
     "grade": false,
     "grade_id": "cell-3bfd0cc205146bcf",
     "locked": true,
     "schema_version": 3,
     "solution": false,
     "task": false
    }
   },
   "source": [
    "# Dynamic Motion Primitives for Path Learning\n",
    "\n",
    "In this assignment, you will write your own simple implementation of dynamic motion primitives for learning three-dimensional paths."
   ]
  },
  {
   "cell_type": "markdown",
   "id": "025cbbe8",
   "metadata": {
    "deletable": false,
    "editable": false,
    "nbgrader": {
     "cell_type": "markdown",
     "checksum": "727bde98d74ada3ad79eb9e6da7cf083",
     "grade": false,
     "grade_id": "cell-f16a755197a3527d",
     "locked": true,
     "schema_version": 3,
     "solution": false,
     "task": false
    }
   },
   "source": [
    "## Discrete DMP Implementation [70 points]\n",
    "\n",
    "Follow the description of DMPs with a discrete canonical system to write your own implementation that allows you to learn a three-dimensional DMP from a given demonstration and then generate paths based on the learned information."
   ]
  },
  {
   "cell_type": "code",
   "execution_count": 338,
   "id": "4851eae0",
   "metadata": {
    "deletable": false,
    "nbgrader": {
     "cell_type": "code",
     "checksum": "7433dc796953b1b11e41a2f6d5aab8b3",
     "grade": true,
     "grade_id": "cell-035b32d0ca7bcf79",
     "locked": false,
     "points": 70,
     "schema_version": 3,
     "solution": true,
     "task": false
    }
   },
   "outputs": [],
   "source": [
    "\"\"\"\n",
    "Reference: \n",
    "\n",
    "[1] A. J. Ijspeert, J. Nakanishi, H. Hoffmann, P. Pastor and S. Schaal, \"Dynamical Movement Primitives: Learning Attractor Models for Motor Behaviors,\" in Neural Computation, vol. 25, no. 2, pp. 328-373, Feb. 2013, doi: 10.1162/NECO_a_00393.\n",
    "[2] https://studywolf.wordpress.com/2013/11/16/dynamic-movement-primitives-part-1-the-basics/\n",
    "\"\"\"\n",
    "\n",
    "import numpy as np\n",
    "from scipy.interpolate import interp1d\n",
    "\n",
    "class DiscreteDMP(object):\n",
    "    \n",
    "    def __init__(self):\n",
    "        \n",
    "        # \n",
    "        self.tau = 1.0\n",
    "        self.alpha_z = 25\n",
    "        self.dt = 0.01\n",
    "        self.runtime = 1.0\n",
    "        self.timesteps = int((self.runtime / self.dt) * self.tau) # spatial scaling with tau\n",
    "        print(f\"Timesteps:= {self.timesteps}\")\n",
    "        \n",
    "        # Canonical system variable\n",
    "        self.alpha_x = self.alpha_z / 4\n",
    "        self.error_coupling = 1.0\n",
    "        self.x = 1.0\n",
    "        \n",
    "        # Basis function\n",
    "        self.num_bfs = 50\n",
    "        \n",
    "        \n",
    "        # Weights\n",
    "        self.weights = np.zeros((self.num_bfs, ))\n",
    "        \n",
    "        # \n",
    "        self.y_des = None\n",
    "        self.beta_z = self.alpha_z/4\n",
    "        self.goal = None\n",
    "        self.y0 = None\n",
    "        \n",
    "    def gen_bf_centers(self):\n",
    "        \"\"\"\n",
    "        Set the centre of the Gaussian basis functions be spaced evenly throughout run time\n",
    "        \"\"\"\n",
    "        des_c = np.linspace(0, self.runtime, self.num_bfs)\n",
    "        c = np.ones(len(des_c))\n",
    "        \n",
    "        for n in range(len(des_c)):\n",
    "            c[n] = np.exp(-self.alpha_x * des_c[n])\n",
    "            \n",
    "        return c\n",
    "    \n",
    "    def gen_bf_variances(self, centers):\n",
    "        \"\"\"iet the variance of Gaussian basis functions\"\"\"\n",
    "        # trial and error to find this spacing as in reference [2]\n",
    "#         print(np.ones(self.num_bfs) * self.num_bfs ** 1.5 / centers / self.alpha_x)\n",
    "        h = np.zeros((self.num_bfs, ))\n",
    "        for i in range(self.num_bfs):\n",
    "            h[i] = self.num_bfs / centers[i]\n",
    "        return h\n",
    "    \n",
    "    def gen_x_mat(self, ):\n",
    "        \"Canonical system\"\n",
    "        \n",
    "        x = 1.0 # Start from 1.0 to decay\n",
    "        x_mat = np.empty((self.timesteps, ))\n",
    "        \n",
    "        for t in range(self.timesteps):\n",
    "            x -= (self.alpha_x * x ) * self.dt * self.tau\n",
    "            x_mat[t] = x\n",
    "            \n",
    "        return x_mat\n",
    "    \n",
    "    def gen_xi(self, x_mat, step):\n",
    "        return x_mat[step] * (self.goal - self.y0)\n",
    "    \n",
    "    def gen_gamma_bfs(self, x_mat, ):\n",
    "        c = self.gen_bf_centers()\n",
    "        h = self.gen_bf_variances(centers=c)\n",
    "        assert c.shape == h.shape\n",
    "        \n",
    "        bfs = np.zeros((self.num_bfs, self.timesteps))\n",
    "        \n",
    "        for n in range(self.num_bfs):\n",
    "            for t in range(self.timesteps):\n",
    "                bfs[n][t] = np.exp(-h[n] * (x_mat[t] - c[n])**2)\n",
    "        return bfs\n",
    "    \n",
    "    def gen_s_mat(self, x_mat):\n",
    "        s_mat = np.zeros((self.timesteps, ))\n",
    "        \n",
    "        for t in range(self.timesteps):\n",
    "            xi = self.gen_xi(x_mat=x_mat, step=t)\n",
    "            s_mat[t] = xi\n",
    "        \n",
    "        return s_mat\n",
    "        \n",
    "    def gen_gamma_mat(self, x_mat):\n",
    "        \n",
    "        bfs = self.gen_gamma_bfs(x_mat)\n",
    "        \n",
    "        gamma_mat = np.zeros((self.num_bfs, self.timesteps, self.timesteps))\n",
    "        for n in range(self.num_bfs):\n",
    "            gamma_mat[n] = np.diag(bfs[n])\n",
    "            \n",
    "        assert gamma_mat.shape == (self.num_bfs, self.timesteps, self.timesteps)\n",
    "        \n",
    "        return gamma_mat\n",
    "    \n",
    "    \n",
    "    def gen_weights(self, s_mat, gamma_mat, f_target):\n",
    "        \"\"\"\n",
    "        Generate a set of weights over the basis functios for a given target forcing term trajectory\n",
    "        \"\"\"\n",
    "        weights = np.zeros((self.num_bfs, ))\n",
    "        for n in range(self.num_bfs):\n",
    "            num = s_mat.T @ gamma_mat[n] @ f_target\n",
    "            den = s_mat.T @ gamma_mat[n] @ s\n",
    "            weights[n] = num / den\n",
    "        \n",
    "        return weights\n",
    "        \n",
    "    def learn(self, traj) -> None:\n",
    "        \n",
    "        y_des = traj.reshape(-1, 1)\n",
    "    \n",
    "        self.y0 = y_des[0].copy()\n",
    "        self.goal = y_des[-1].copy()\n",
    "        \n",
    "        self.y_des = y_des.copy()\n",
    "         \n",
    "        \n",
    "        # Calculate y_demo_dot and y_demo_dotdot\n",
    "        dy_des = np.gradient(y_des, axis=0) / self.dt\n",
    "        ddy_des = np.gradient(dy_des, axis=0) / self.dt\n",
    "        \n",
    "        # Calculate f_target\n",
    "        f_target = ((self.tau**2 * ddy_des) - (self.alpha_z * (self.beta_z * (self.goal - y_des)) - (self.tau * dy_des)))\n",
    "\n",
    "        x_mat = self.gen_x_mat()\n",
    "        s_mat = self.gen_s_mat(x_mat=x_mat)\n",
    "        gamma_mat = self.gen_gamma_mat(x_mat=x_mat)\n",
    "        weights = self.gen_weights(s_mat, gamma_mat, f_target)\n",
    "        \n",
    "        self.weights = weights\n",
    "        return self.weights\n",
    "    \n",
    "    def gen_psi(self, h, c, step):\n",
    "        return np.exp(-h * (step - c)**2)\n",
    "    \n",
    "    def gen_forcing_term(self, step, y0, g):\n",
    "        \n",
    "        c = self.gen_bf_centers()\n",
    "        h = self.gen_bf_variances(centers=c)\n",
    "        x_mat = self.gen_x_mat()\n",
    "\n",
    "        sum_weighted_psi = 0\n",
    "        sum_psi = 0\n",
    "        for n in range(self.num_bfs):\n",
    "            psi = self.gen_psi(h=h[n], c=c[n], step=step)\n",
    "            weight = self.weights[n]\n",
    "            weighted_psi = psi * weight\n",
    "            sum_weighted_psi += weighted_psi\n",
    "            sum_psi += psi\n",
    "\n",
    "        c = (g - y0) * x_mat[step]  # Corrected calculation of c\n",
    "        f = (sum_weighted_psi) * c\n",
    "        if np.abs(sum_psi) > 1e-6:\n",
    "                f /= sum_psi\n",
    "        \n",
    "        return f\n",
    "             \n",
    "    def unroll(self, y0: np.ndarray, g: np.ndarray) -> np.ndarray:\n",
    "        traj = []\n",
    "        y = y0\n",
    "        dy = 0\n",
    "        \n",
    "        for t in range(self.timesteps):\n",
    "            traj.append(y)\n",
    "            f = self.gen_forcing_term(step=t, y0=y0, g=g)\n",
    "            ddy = (self.alpha_z * (self.beta_z * (g - y) - dy) + f) / self.tau**2\n",
    "            dy += ddy * self.dt \n",
    "            y += dy * self.dt \n",
    "            \n",
    "        return np.array(traj)"
   ]
  },
  {
   "cell_type": "markdown",
   "id": "e64ac49d",
   "metadata": {
    "deletable": false,
    "editable": false,
    "nbgrader": {
     "cell_type": "markdown",
     "checksum": "8893d9b2e1adb5b29a056f6b24ff869c",
     "grade": false,
     "grade_id": "cell-c036c359df02f1fa",
     "locked": true,
     "schema_version": 3,
     "solution": false,
     "task": false
    }
   },
   "source": [
    "## Implementation Verification [30 points]\n",
    "\n",
    "Verify that your implementation is working correctly and investigate the factors that affect the reconstruction error.\n",
    "\n",
    "For the evaluation, generate multiple mathematical curves and use those to represent demonstrations from which you can learn the DMP weights.\n",
    "\n",
    "The evaluation should consist of two parts:\n",
    "* Plot your results (the generated and the reconstructed curves, similar to what is shown on lecture slide 16) to qualitatively evaluate the reconstruction.\n",
    "* Use a similarity metric to evaluate the curve similarity quantitatively (e.g. mean squared error).\n",
    "\n",
    "In your evaluation, investigate how changing the number of basis functions affects the error."
   ]
  },
  {
   "cell_type": "code",
   "execution_count": 339,
   "id": "cd4b2fa7",
   "metadata": {
    "deletable": false,
    "nbgrader": {
     "cell_type": "code",
     "checksum": "f88cd49d42d857bb67a72f030eb90d4c",
     "grade": true,
     "grade_id": "cell-6112686585a3d2c1",
     "locked": false,
     "points": 20,
     "schema_version": 3,
     "solution": true,
     "task": false
    }
   },
   "outputs": [
    {
     "name": "stdout",
     "output_type": "stream",
     "text": [
      "Timesteps:= 100\n"
     ]
    },
    {
     "name": "stderr",
     "output_type": "stream",
     "text": [
      "/tmp/ipykernel_28917/1977253932.py:94: DeprecationWarning: Conversion of an array with ndim > 0 to a scalar is deprecated, and will error in future. Ensure you extract a single element from your array before performing this operation. (Deprecated NumPy 1.25.)\n",
      "  s_mat[t] = xi\n",
      "/tmp/ipykernel_28917/1977253932.py:119: DeprecationWarning: Conversion of an array with ndim > 0 to a scalar is deprecated, and will error in future. Ensure you extract a single element from your array before performing this operation. (Deprecated NumPy 1.25.)\n",
      "  weights[n] = num / den\n"
     ]
    },
    {
     "data": {
      "image/png": "[encoded data removed]",
      "text/plain": [
       "<Figure size 1000x600 with 1 Axes>"
      ]
     },
     "metadata": {},
     "output_type": "display_data"
    }
   ],
   "source": [
    "discrete_dmp = DiscreteDMP()\n",
    "\n",
    "traj = np.sin(np.arange(0, 1, 0.01) * 2)\n",
    "\n",
    "y0 = traj[0]\n",
    "g = traj[-1]\n",
    "\n",
    "weights = discrete_dmp.learn(traj)\n",
    "\n",
    "traj_track = discrete_dmp.unroll(y0, g)\n",
    "\n",
    "t = np.arange(0, len(traj), 1)\n",
    "\n",
    "plt.figure(figsize=(10, 6))  # Adjust the figure size as needed\n",
    "plt.plot(t, traj, label='Original Trajectory', color='b')\n",
    "plt.plot(t, traj_track, label='DMP-generated Trajectory', color='r')\n",
    "\n",
    "plt.xlabel('Time Steps')\n",
    "plt.ylabel('Position')\n",
    "plt.title('DMP vs. Original Trajectory')\n",
    "plt.legend()\n",
    "\n",
    "plt.show()\n"
   ]
  },
  {
   "cell_type": "markdown",
   "id": "adfe8a19",
   "metadata": {
    "deletable": false,
    "nbgrader": {
     "cell_type": "markdown",
     "checksum": "f0b6a2a584d5a102c838da5852d41f09",
     "grade": true,
     "grade_id": "cell-350e9b393fca8a42",
     "locked": false,
     "points": 10,
     "schema_version": 3,
     "solution": true,
     "task": false
    }
   },
   "source": [
    "Discuss the results of your evaluation here.\n",
    "\n",
    "YOUR ANSWER HERE"
   ]
  },
  {
   "cell_type": "markdown",
   "id": "62310a58",
   "metadata": {
    "deletable": false,
    "editable": false,
    "nbgrader": {
     "cell_type": "markdown",
     "checksum": "99e7b51a00de4605d164b54576850221",
     "grade": false,
     "grade_id": "cell-1ead7b7f799f19c8",
     "locked": true,
     "schema_version": 3,
     "solution": false,
     "task": false
    }
   },
   "source": [
    "## (Optional) Rhythmic DMPs\n",
    "\n",
    "Follow the description of DMPs with a rhythmic canonical system to write your own implementation that allows you to learn and reproduce rhythmic DMPs."
   ]
  },
  {
   "cell_type": "code",
   "execution_count": null,
   "id": "3ffa6aae",
   "metadata": {
    "deletable": false,
    "nbgrader": {
     "cell_type": "code",
     "checksum": "3f0bf50fee1181fd4b78869e80645d11",
     "grade": true,
     "grade_id": "cell-752626158472345e",
     "locked": false,
     "points": 0,
     "schema_version": 3,
     "solution": true,
     "task": false
    }
   },
   "outputs": [],
   "source": [
    "class RhythmicDMP(object):\n",
    "    def __init__(self):\n",
    "        # YOUR CODE HERE\n",
    "        raise NotImplementedError()\n",
    "\n",
    "    def learn(self) -> None:\n",
    "        \"\"\"Learns a rhythmic dynamic motion primitive.\n",
    "        \"\"\"\n",
    "        # YOUR CODE HERE\n",
    "        raise NotImplementedError()\n",
    "\n",
    "    def unroll(self, y0: np.ndarray) -> np.ndarray:\n",
    "        \"\"\"Generates a rhythmic path that starts at y0, following a learned DMP shape.\n",
    "\n",
    "        Keyword arguments:\n",
    "        y0: np.ndarray -- Initial state of the system\n",
    "\n",
    "        Returns a numpy array representing path waypoints.\n",
    "\n",
    "        \"\"\"\n",
    "        # YOUR CODE HERE\n",
    "        raise NotImplementedError()"
   ]
  },
  {
   "cell_type": "markdown",
   "id": "351a1a50",
   "metadata": {
    "deletable": false,
    "editable": false,
    "nbgrader": {
     "cell_type": "markdown",
     "checksum": "af51f5f3b2bda02cdb3d8510619781e2",
     "grade": false,
     "grade_id": "cell-69ebd70f3c28b618",
     "locked": true,
     "schema_version": 3,
     "solution": false,
     "task": false
    }
   },
   "source": [
    "Verify that your implementation is working correctly by experimenting with various rhythmic functions."
   ]
  },
  {
   "cell_type": "code",
   "execution_count": null,
   "id": "4ca0469e",
   "metadata": {
    "deletable": false,
    "nbgrader": {
     "cell_type": "code",
     "checksum": "f9b79ec63c89725800fbeb5f4286c099",
     "grade": true,
     "grade_id": "cell-3a2d90ce57fda7fd",
     "locked": false,
     "points": 0,
     "schema_version": 3,
     "solution": true,
     "task": false
    }
   },
   "outputs": [],
   "source": [
    "### write code to test your implementation here\n",
    "\n",
    "# YOUR CODE HERE\n",
    "raise NotImplementedError()"
   ]
  }
 ],
 "metadata": {
  "kernelspec": {
   "display_name": "Python 3 (ipykernel)",
   "language": "python",
   "name": "python3"
  },
  "language_info": {
   "codemirror_mode": {
    "name": "ipython",
    "version": 3
   },
   "file_extension": ".py",
   "mimetype": "text/x-python",
   "name": "python",
   "nbconvert_exporter": "python",
   "pygments_lexer": "ipython3",
   "version": "3.11.5"
  }
 },
 "nbformat": 4,
 "nbformat_minor": 5
}
