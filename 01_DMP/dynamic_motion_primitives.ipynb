{
 "cells": [
  {
   "cell_type": "markdown",
   "id": "42c5b88b",
   "metadata": {},
   "source": [
    "#### Team members:\n",
    "* Ekansh Sharma"
   ]
  },
  {
   "cell_type": "code",
   "execution_count": null,
   "id": "97a20441",
   "metadata": {
    "deletable": false,
    "editable": false,
    "nbgrader": {
     "cell_type": "code",
     "checksum": "32ed05c5ad27fbcedf28b911838a0dd1",
     "grade": false,
     "grade_id": "cell-3a71bab6654dd369",
     "locked": true,
     "schema_version": 3,
     "solution": false,
     "task": false
    }
   },
   "outputs": [],
   "source": [
    "### General imports\n",
    "import numpy as np\n",
    "import matplotlib.pyplot as plt\n",
    "from mpl_toolkits.mplot3d import Axes3D"
   ]
  },
  {
   "cell_type": "markdown",
   "id": "f3bef47f",
   "metadata": {
    "deletable": false,
    "editable": false,
    "nbgrader": {
     "cell_type": "markdown",
     "checksum": "85609b7a33538f2a741d8d79ed345bb8",
     "grade": false,
     "grade_id": "cell-3bfd0cc205146bcf",
     "locked": true,
     "schema_version": 3,
     "solution": false,
     "task": false
    }
   },
   "source": [
    "# Dynamic Motion Primitives for Path Learning\n",
    "\n",
    "In this assignment, you will write your own simple implementation of dynamic motion primitives for learning three-dimensional paths."
   ]
  },
  {
   "cell_type": "markdown",
   "id": "025cbbe8",
   "metadata": {
    "deletable": false,
    "editable": false,
    "nbgrader": {
     "cell_type": "markdown",
     "checksum": "727bde98d74ada3ad79eb9e6da7cf083",
     "grade": false,
     "grade_id": "cell-f16a755197a3527d",
     "locked": true,
     "schema_version": 3,
     "solution": false,
     "task": false
    }
   },
   "source": [
    "## Discrete DMP Implementation [70 points]\n",
    "\n",
    "Follow the description of DMPs with a discrete canonical system to write your own implementation that allows you to learn a three-dimensional DMP from a given demonstration and then generate paths based on the learned information."
   ]
  },
  {
   "cell_type": "code",
   "execution_count": null,
   "id": "4851eae0",
   "metadata": {
    "deletable": false,
    "nbgrader": {
     "cell_type": "code",
     "checksum": "7433dc796953b1b11e41a2f6d5aab8b3",
     "grade": true,
     "grade_id": "cell-035b32d0ca7bcf79",
     "locked": false,
     "points": 70,
     "schema_version": 3,
     "solution": true,
     "task": false
    }
   },
   "outputs": [],
   "source": [
    "### Write your code by filling out the following class. Your class should expose\n",
    "### at least the two functions that are predefined below, but feel free\n",
    "### to also add other functions and to modify the function signatures as needed.\n",
    "\n",
    "class DiscreteDMP(object):\n",
    "    def __init__(self):\n",
    "        # YOUR CODE HERE\n",
    "        raise NotImplementedError()\n",
    "\n",
    "    def learn(self) -> None:\n",
    "        \"\"\"Learns a dynamic motion primitive.\n",
    "        \"\"\"\n",
    "        # YOUR CODE HERE\n",
    "        raise NotImplementedError()\n",
    "\n",
    "    def unroll(self, y0: np.ndarray, g: np.ndarray) -> np.ndarray:\n",
    "        \"\"\"Generates a path that starts at y0 and ends at g,\n",
    "        following a learned DMP shape.\n",
    "\n",
    "        Keyword arguments:\n",
    "        y0: np.ndarray -- Initial state of the system\n",
    "        g: np.ndarray -- Goal state\n",
    "\n",
    "        Returns a numpy array representing path waypoints.\n",
    "\n",
    "        \"\"\"\n",
    "        # YOUR CODE HERE\n",
    "        raise NotImplementedError()"
   ]
  },
  {
   "cell_type": "markdown",
   "id": "e64ac49d",
   "metadata": {
    "deletable": false,
    "editable": false,
    "nbgrader": {
     "cell_type": "markdown",
     "checksum": "8893d9b2e1adb5b29a056f6b24ff869c",
     "grade": false,
     "grade_id": "cell-c036c359df02f1fa",
     "locked": true,
     "schema_version": 3,
     "solution": false,
     "task": false
    }
   },
   "source": [
    "## Implementation Verification [30 points]\n",
    "\n",
    "Verify that your implementation is working correctly and investigate the factors that affect the reconstruction error.\n",
    "\n",
    "For the evaluation, generate multiple mathematical curves and use those to represent demonstrations from which you can learn the DMP weights.\n",
    "\n",
    "The evaluation should consist of two parts:\n",
    "* Plot your results (the generated and the reconstructed curves, similar to what is shown on lecture slide 16) to qualitatively evaluate the reconstruction.\n",
    "* Use a similarity metric to evaluate the curve similarity quantitatively (e.g. mean squared error).\n",
    "\n",
    "In your evaluation, investigate how changing the number of basis functions affects the error."
   ]
  },
  {
   "cell_type": "code",
   "execution_count": null,
   "id": "cd4b2fa7",
   "metadata": {
    "deletable": false,
    "nbgrader": {
     "cell_type": "code",
     "checksum": "f88cd49d42d857bb67a72f030eb90d4c",
     "grade": true,
     "grade_id": "cell-6112686585a3d2c1",
     "locked": false,
     "points": 20,
     "schema_version": 3,
     "solution": true,
     "task": false
    }
   },
   "outputs": [],
   "source": [
    "### write code to test your implementation here\n",
    "\n",
    "# YOUR CODE HERE\n",
    "raise NotImplementedError()"
   ]
  },
  {
   "cell_type": "markdown",
   "id": "adfe8a19",
   "metadata": {
    "deletable": false,
    "nbgrader": {
     "cell_type": "markdown",
     "checksum": "f0b6a2a584d5a102c838da5852d41f09",
     "grade": true,
     "grade_id": "cell-350e9b393fca8a42",
     "locked": false,
     "points": 10,
     "schema_version": 3,
     "solution": true,
     "task": false
    }
   },
   "source": [
    "Discuss the results of your evaluation here.\n",
    "\n",
    "YOUR ANSWER HERE"
   ]
  },
  {
   "cell_type": "markdown",
   "id": "62310a58",
   "metadata": {
    "deletable": false,
    "editable": false,
    "nbgrader": {
     "cell_type": "markdown",
     "checksum": "99e7b51a00de4605d164b54576850221",
     "grade": false,
     "grade_id": "cell-1ead7b7f799f19c8",
     "locked": true,
     "schema_version": 3,
     "solution": false,
     "task": false
    }
   },
   "source": [
    "## (Optional) Rhythmic DMPs\n",
    "\n",
    "Follow the description of DMPs with a rhythmic canonical system to write your own implementation that allows you to learn and reproduce rhythmic DMPs."
   ]
  },
  {
   "cell_type": "code",
   "execution_count": null,
   "id": "3ffa6aae",
   "metadata": {
    "deletable": false,
    "nbgrader": {
     "cell_type": "code",
     "checksum": "3f0bf50fee1181fd4b78869e80645d11",
     "grade": true,
     "grade_id": "cell-752626158472345e",
     "locked": false,
     "points": 0,
     "schema_version": 3,
     "solution": true,
     "task": false
    }
   },
   "outputs": [],
   "source": [
    "class RhythmicDMP(object):\n",
    "    def __init__(self):\n",
    "        # YOUR CODE HERE\n",
    "        raise NotImplementedError()\n",
    "\n",
    "    def learn(self) -> None:\n",
    "        \"\"\"Learns a rhythmic dynamic motion primitive.\n",
    "        \"\"\"\n",
    "        # YOUR CODE HERE\n",
    "        raise NotImplementedError()\n",
    "\n",
    "    def unroll(self, y0: np.ndarray) -> np.ndarray:\n",
    "        \"\"\"Generates a rhythmic path that starts at y0, following a learned DMP shape.\n",
    "\n",
    "        Keyword arguments:\n",
    "        y0: np.ndarray -- Initial state of the system\n",
    "\n",
    "        Returns a numpy array representing path waypoints.\n",
    "\n",
    "        \"\"\"\n",
    "        # YOUR CODE HERE\n",
    "        raise NotImplementedError()"
   ]
  },
  {
   "cell_type": "markdown",
   "id": "351a1a50",
   "metadata": {
    "deletable": false,
    "editable": false,
    "nbgrader": {
     "cell_type": "markdown",
     "checksum": "af51f5f3b2bda02cdb3d8510619781e2",
     "grade": false,
     "grade_id": "cell-69ebd70f3c28b618",
     "locked": true,
     "schema_version": 3,
     "solution": false,
     "task": false
    }
   },
   "source": [
    "Verify that your implementation is working correctly by experimenting with various rhythmic functions."
   ]
  },
  {
   "cell_type": "code",
   "execution_count": null,
   "id": "4ca0469e",
   "metadata": {
    "deletable": false,
    "nbgrader": {
     "cell_type": "code",
     "checksum": "f9b79ec63c89725800fbeb5f4286c099",
     "grade": true,
     "grade_id": "cell-3a2d90ce57fda7fd",
     "locked": false,
     "points": 0,
     "schema_version": 3,
     "solution": true,
     "task": false
    }
   },
   "outputs": [],
   "source": [
    "### write code to test your implementation here\n",
    "\n",
    "# YOUR CODE HERE\n",
    "raise NotImplementedError()"
   ]
  }
 ],
 "metadata": {
  "kernelspec": {
   "display_name": "Python 3 (ipykernel)",
   "language": "python",
   "name": "python3"
  },
  "language_info": {
   "codemirror_mode": {
    "name": "ipython",
    "version": 3
   },
   "file_extension": ".py",
   "mimetype": "text/x-python",
   "name": "python",
   "nbconvert_exporter": "python",
   "pygments_lexer": "ipython3",
   "version": "3.10.11"
  }
 },
 "nbformat": 4,
 "nbformat_minor": 5
}
