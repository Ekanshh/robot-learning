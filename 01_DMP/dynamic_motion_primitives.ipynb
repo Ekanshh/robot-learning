{
 "cells": [
  {
   "cell_type": "markdown",
   "id": "42c5b88b",
   "metadata": {},
   "source": [
    "#### Team members:\n",
    "* Ekansh Sharma"
   ]
  },
  {
   "cell_type": "code",
   "execution_count": 5,
   "id": "97a20441",
   "metadata": {
    "deletable": false,
    "editable": false,
    "nbgrader": {
     "cell_type": "code",
     "checksum": "32ed05c5ad27fbcedf28b911838a0dd1",
     "grade": false,
     "grade_id": "cell-3a71bab6654dd369",
     "locked": true,
     "schema_version": 3,
     "solution": false,
     "task": false
    }
   },
   "outputs": [],
   "source": [
    "### General imports\n",
    "import numpy as np\n",
    "import matplotlib.pyplot as plt\n",
    "from mpl_toolkits.mplot3d import Axes3D"
   ]
  },
  {
   "cell_type": "code",
   "execution_count": 45,
   "id": "59f7c99f",
   "metadata": {},
   "outputs": [
    {
     "name": "stdout",
     "output_type": "stream",
     "text": [
      "Channels:\n",
      " - defaults\n",
      " - anaconda\n",
      "Platform: linux-64\n",
      "Collecting package metadata (repodata.json): done\n",
      "Solving environment: done\n",
      "\n",
      "## Package Plan ##\n",
      "\n",
      "  environment location: /home/sharma/anaconda3/envs/rl_env\n",
      "\n",
      "  added / updated specs:\n",
      "    - scipy\n",
      "\n",
      "\n",
      "The following packages will be downloaded:\n",
      "\n",
      "    package                    |            build\n",
      "    ---------------------------|-----------------\n",
      "    scipy-1.11.3               |  py311h08b1b3b_0        22.0 MB\n",
      "    ------------------------------------------------------------\n",
      "                                           Total:        22.0 MB\n",
      "\n",
      "The following NEW packages will be INSTALLED:\n",
      "\n",
      "  libgfortran-ng     pkgs/main/linux-64::libgfortran-ng-11.2.0-h00389a5_1 \n",
      "  libgfortran5       pkgs/main/linux-64::libgfortran5-11.2.0-h1234567_1 \n",
      "  scipy              pkgs/main/linux-64::scipy-1.11.3-py311h08b1b3b_0 \n",
      "\n",
      "\n",
      "\n",
      "Downloading and Extracting Packages\n",
      "                                                                                \n",
      "Preparing transaction: done\n",
      "Verifying transaction: done\n",
      "Executing transaction: done\n"
     ]
    }
   ],
   "source": [
    "!conda install scipy -y"
   ]
  },
  {
   "cell_type": "markdown",
   "id": "f3bef47f",
   "metadata": {
    "deletable": false,
    "editable": false,
    "nbgrader": {
     "cell_type": "markdown",
     "checksum": "85609b7a33538f2a741d8d79ed345bb8",
     "grade": false,
     "grade_id": "cell-3bfd0cc205146bcf",
     "locked": true,
     "schema_version": 3,
     "solution": false,
     "task": false
    }
   },
   "source": [
    "# Dynamic Motion Primitives for Path Learning\n",
    "\n",
    "In this assignment, you will write your own simple implementation of dynamic motion primitives for learning three-dimensional paths."
   ]
  },
  {
   "cell_type": "markdown",
   "id": "025cbbe8",
   "metadata": {
    "deletable": false,
    "editable": false,
    "nbgrader": {
     "cell_type": "markdown",
     "checksum": "727bde98d74ada3ad79eb9e6da7cf083",
     "grade": false,
     "grade_id": "cell-f16a755197a3527d",
     "locked": true,
     "schema_version": 3,
     "solution": false,
     "task": false
    }
   },
   "source": [
    "## Discrete DMP Implementation [70 points]\n",
    "\n",
    "Follow the description of DMPs with a discrete canonical system to write your own implementation that allows you to learn a three-dimensional DMP from a given demonstration and then generate paths based on the learned information."
   ]
  },
  {
   "cell_type": "code",
   "execution_count": 121,
   "id": "4851eae0",
   "metadata": {
    "deletable": false,
    "nbgrader": {
     "cell_type": "code",
     "checksum": "7433dc796953b1b11e41a2f6d5aab8b3",
     "grade": true,
     "grade_id": "cell-035b32d0ca7bcf79",
     "locked": false,
     "points": 70,
     "schema_version": 3,
     "solution": true,
     "task": false
    }
   },
   "outputs": [],
   "source": [
    "import numpy as np\n",
    "from scipy.interpolate import interp1d\n",
    "\n",
    "class DiscreteDMP(object):\n",
    "    \n",
    "    def __init__(self):\n",
    "        self.tau = 1.05\n",
    "        self.alpha_z = 25\n",
    "        self.beta_z = self.alpha_z/4\n",
    "        self.num_bfs = 10\n",
    "        self.P = None\n",
    "        self.g = None\n",
    "        self.y0 = None\n",
    "        \n",
    "    def x(self, t):\n",
    "        \"\"\" Exponential decay function\n",
    "        \n",
    "        As x exponentially decays, the modulation by x ensures that f → 0\n",
    "        \"\"\"\n",
    "        alpha_x = self.alpha_z / 4\n",
    "        return np.exp(-(alpha_x * t / self.tau))\n",
    "    \n",
    "    def xi(self, t):\n",
    "        x_t = self.x(t)\n",
    "        return (x_t * (self.g - self.y0))\n",
    "    \n",
    "    def basis_function(self, t):\n",
    "        sigma = 0.2\n",
    "        c_i = 0.5\n",
    "        h_i = (1 / (2 * (sigma**2)))\n",
    "        bf = np.exp(-h_i * ((t - c_i)**2))\n",
    "        return bf\n",
    "    \n",
    "    def s(self):\n",
    "        xi_s = np.zeros((self.P, 1))\n",
    "        for i in range(self.P):\n",
    "            xi_s[i][0] = self.xi(i)\n",
    "        return xi_s\n",
    "    \n",
    "    def Gamma_mat(self):\n",
    "        Gamma_i = np.zeros((self.P, self.P))\n",
    "        for i in range(self.P):\n",
    "            bf = self.basis_function(i)\n",
    "            Gamma_i[i][i] = bf\n",
    "        return Gamma_i\n",
    "            \n",
    "    def learn(self, traj) -> None:\n",
    "        \n",
    "        y_demo = traj.reshape(-1, 1)\n",
    "        \n",
    "        # Get the length of traj\n",
    "        self.P = y_demo.shape[0]\n",
    "        # Get goal and starting point\n",
    "        self.g = y_demo[-1]\n",
    "        self.y0 = y_demo[0]\n",
    "        \n",
    "        # Calculate y_demo_dot and y_demo_dotdot\n",
    "        y_demo_dot = np.diff(y_demo, axis=0)\n",
    "        y_demo_dotdot = np.diff(y_demo_dot, axis=0)\n",
    "        \n",
    "        # Find the maximum shape among the arrays\n",
    "        max_shape = max(y_demo.shape, y_demo_dot.shape, y_demo_dotdot.shape)\n",
    "\n",
    "        # Pad all arrays to match the maximum shape\n",
    "        y_demo = np.pad(y_demo, [(0, max_shape[0] - y_demo.shape[0]), (0, max_shape[1] - y_demo.shape[1])], mode='constant', constant_values=0)\n",
    "        y_demo_dot = np.pad(y_demo_dot, [(0, max_shape[0] - y_demo_dot.shape[0]), (0, max_shape[1] - y_demo_dot.shape[1])], mode='constant', constant_values=0)\n",
    "        y_demo_dotdot = np.pad(y_demo_dotdot, [(0, max_shape[0] - y_demo_dotdot.shape[0]), (0, max_shape[1] - y_demo_dotdot.shape[1])], mode='constant', constant_values=0)\n",
    "\n",
    "        print(y_demo.shape, y_demo_dot.shape, y_demo_dotdot.shape)\n",
    "\n",
    "        # Calculate f_target\n",
    "        f_target = ((self.tau**2 * y_demo_dotdot) - (self.alpha_z * (self.beta_z * (g - y_demo))) - (self.tau * y_demo_dot))\n",
    "        \n",
    "        self.weights = np.empty((self.P, 1))\n",
    "        for i in range(self.P):\n",
    "            s = self.s()\n",
    "            Gamma_i= self.Gamma_mat()\n",
    "            self.weights[i][0] = (s.T @ Gamma_i @ f_target) / (s.T @ Gamma_i @ s)\n",
    "        \n",
    "        return self.weights\n",
    "\n",
    "    def forcing_term(self, ):\n",
    "        bf_sum = 0\n",
    "        weighted_bf_sum = 0\n",
    "        for i in range(self.num_bfs):\n",
    "            bf = self.basis_function(i)\n",
    "            bf_sum += bf\n",
    "            weight = self.weights[i][0]\n",
    "            weighted_bf = bf * weight\n",
    "            weighted_bf_sum += weighted_bf\n",
    "        \n",
    "        f = ((weighted_bf_sum/ bf_sum) * (self.x(self.g - self.y0))\n",
    "        return f\n",
    "             \n",
    "    def unroll(self, y0: np.ndarray, g: np.ndarray) -> np.ndarray:\n",
    "        \n",
    "        self.y0 = y0\n",
    "        self.g = g\n",
    "        for i in range(self.P):\n",
    "            z_dot = self.alpha * (beta * (self.g - y[i]) - z) + f[i]\n",
    "            y_dot = z\n",
    "        \n",
    "        return np.array(trajectory)\n"
   ]
  },
  {
   "cell_type": "markdown",
   "id": "e64ac49d",
   "metadata": {
    "deletable": false,
    "editable": false,
    "nbgrader": {
     "cell_type": "markdown",
     "checksum": "8893d9b2e1adb5b29a056f6b24ff869c",
     "grade": false,
     "grade_id": "cell-c036c359df02f1fa",
     "locked": true,
     "schema_version": 3,
     "solution": false,
     "task": false
    }
   },
   "source": [
    "## Implementation Verification [30 points]\n",
    "\n",
    "Verify that your implementation is working correctly and investigate the factors that affect the reconstruction error.\n",
    "\n",
    "For the evaluation, generate multiple mathematical curves and use those to represent demonstrations from which you can learn the DMP weights.\n",
    "\n",
    "The evaluation should consist of two parts:\n",
    "* Plot your results (the generated and the reconstructed curves, similar to what is shown on lecture slide 16) to qualitatively evaluate the reconstruction.\n",
    "* Use a similarity metric to evaluate the curve similarity quantitatively (e.g. mean squared error).\n",
    "\n",
    "In your evaluation, investigate how changing the number of basis functions affects the error."
   ]
  },
  {
   "cell_type": "code",
   "execution_count": 122,
   "id": "cd4b2fa7",
   "metadata": {
    "deletable": false,
    "nbgrader": {
     "cell_type": "code",
     "checksum": "f88cd49d42d857bb67a72f030eb90d4c",
     "grade": true,
     "grade_id": "cell-6112686585a3d2c1",
     "locked": false,
     "points": 20,
     "schema_version": 3,
     "solution": true,
     "task": false
    }
   },
   "outputs": [
    {
     "name": "stdout",
     "output_type": "stream",
     "text": [
      "(100, 1) (100, 1) (100, 1)\n",
      "[[8.51583947]\n",
      " [8.51583947]\n",
      " [8.51583947]\n",
      " [8.51583947]\n",
      " [8.51583947]\n",
      " [8.51583947]\n",
      " [8.51583947]\n",
      " [8.51583947]\n",
      " [8.51583947]\n",
      " [8.51583947]\n",
      " [8.51583947]\n",
      " [8.51583947]\n",
      " [8.51583947]\n",
      " [8.51583947]\n",
      " [8.51583947]\n",
      " [8.51583947]\n",
      " [8.51583947]\n",
      " [8.51583947]\n",
      " [8.51583947]\n",
      " [8.51583947]\n",
      " [8.51583947]\n",
      " [8.51583947]\n",
      " [8.51583947]\n",
      " [8.51583947]\n",
      " [8.51583947]\n",
      " [8.51583947]\n",
      " [8.51583947]\n",
      " [8.51583947]\n",
      " [8.51583947]\n",
      " [8.51583947]\n",
      " [8.51583947]\n",
      " [8.51583947]\n",
      " [8.51583947]\n",
      " [8.51583947]\n",
      " [8.51583947]\n",
      " [8.51583947]\n",
      " [8.51583947]\n",
      " [8.51583947]\n",
      " [8.51583947]\n",
      " [8.51583947]\n",
      " [8.51583947]\n",
      " [8.51583947]\n",
      " [8.51583947]\n",
      " [8.51583947]\n",
      " [8.51583947]\n",
      " [8.51583947]\n",
      " [8.51583947]\n",
      " [8.51583947]\n",
      " [8.51583947]\n",
      " [8.51583947]\n",
      " [8.51583947]\n",
      " [8.51583947]\n",
      " [8.51583947]\n",
      " [8.51583947]\n",
      " [8.51583947]\n",
      " [8.51583947]\n",
      " [8.51583947]\n",
      " [8.51583947]\n",
      " [8.51583947]\n",
      " [8.51583947]\n",
      " [8.51583947]\n",
      " [8.51583947]\n",
      " [8.51583947]\n",
      " [8.51583947]\n",
      " [8.51583947]\n",
      " [8.51583947]\n",
      " [8.51583947]\n",
      " [8.51583947]\n",
      " [8.51583947]\n",
      " [8.51583947]\n",
      " [8.51583947]\n",
      " [8.51583947]\n",
      " [8.51583947]\n",
      " [8.51583947]\n",
      " [8.51583947]\n",
      " [8.51583947]\n",
      " [8.51583947]\n",
      " [8.51583947]\n",
      " [8.51583947]\n",
      " [8.51583947]\n",
      " [8.51583947]\n",
      " [8.51583947]\n",
      " [8.51583947]\n",
      " [8.51583947]\n",
      " [8.51583947]\n",
      " [8.51583947]\n",
      " [8.51583947]\n",
      " [8.51583947]\n",
      " [8.51583947]\n",
      " [8.51583947]\n",
      " [8.51583947]\n",
      " [8.51583947]\n",
      " [8.51583947]\n",
      " [8.51583947]\n",
      " [8.51583947]\n",
      " [8.51583947]\n",
      " [8.51583947]\n",
      " [8.51583947]\n",
      " [8.51583947]\n",
      " [8.51583947]]\n"
     ]
    },
    {
     "name": "stderr",
     "output_type": "stream",
     "text": [
      "/tmp/ipykernel_33401/2013965788.py:36: DeprecationWarning: Conversion of an array with ndim > 0 to a scalar is deprecated, and will error in future. Ensure you extract a single element from your array before performing this operation. (Deprecated NumPy 1.25.)\n",
      "  xi_s[i][0] = self.xi(i)\n",
      "/tmp/ipykernel_33401/2013965788.py:78: DeprecationWarning: Conversion of an array with ndim > 0 to a scalar is deprecated, and will error in future. Ensure you extract a single element from your array before performing this operation. (Deprecated NumPy 1.25.)\n",
      "  weights[i][0] = (s.T @ Gamma_i @ f_target) / (s.T @ Gamma_i @ s)\n",
      "/tmp/ipykernel_33401/2013965788.py:93: RuntimeWarning: invalid value encountered in scalar divide\n",
      "  f = (np.sum(basis_functions * weights) / np.sum(basis_functions)) * y * (g - y0)\n"
     ]
    },
    {
     "data": {
      "image/png": "[encoded data removed]",
      "text/plain": [
       "<Figure size 1000x600 with 2 Axes>"
      ]
     },
     "metadata": {},
     "output_type": "display_data"
    }
   ],
   "source": [
    "### write code to test your implementation here\n",
    "\n",
    "\"\"\"\n",
    "We assume that a desired behavior is given by one or multiple de-\n",
    "sired trajectories in terms of position, velocity, and acceleration triples\n",
    "(y demo(t), ˙y demo(t), ¨y demo(t)), where t ∈ [1, . . . , P].\n",
    "\"\"\"\n",
    "\n",
    "import numpy as np\n",
    "\n",
    "# Time vector\n",
    "t = np.linspace(0, 10, 100)  # Replace with your time range\n",
    "\n",
    "# Sample desired trajectories (position, velocity, and acceleration)\n",
    "traj = t\n",
    "\n",
    "dmp = DiscreteDMP()\n",
    "weights = dmp.learn(traj)\n",
    "\n",
    "# weights = np.full(100, weights[0][0]).reshape(-1, 1)\n",
    "unroll = dmp.unroll(traj[0], traj[-1], weights)\n",
    "unroll\n",
    "\n",
    "\n",
    "# Plot the original trajectory and the unrolled trajectory\n",
    "plt.figure(figsize=(10, 6))\n",
    "\n",
    "plt.subplot(2, 1, 1)\n",
    "plt.plot(t, traj, label=\"Original Trajectory\")\n",
    "plt.title(\"Original Trajectory\")\n",
    "\n",
    "plt.subplot(2, 1, 2)\n",
    "plt.plot(np.linspace(0, 10, len(unroll)), unroll, label=\"Unrolled Trajectory\")\n",
    "plt.title(\"Unrolled Trajectory\")\n",
    "\n",
    "plt.tight_layout()\n",
    "plt.show()\n"
   ]
  },
  {
   "cell_type": "markdown",
   "id": "adfe8a19",
   "metadata": {
    "deletable": false,
    "nbgrader": {
     "cell_type": "markdown",
     "checksum": "f0b6a2a584d5a102c838da5852d41f09",
     "grade": true,
     "grade_id": "cell-350e9b393fca8a42",
     "locked": false,
     "points": 10,
     "schema_version": 3,
     "solution": true,
     "task": false
    }
   },
   "source": [
    "Discuss the results of your evaluation here.\n",
    "\n",
    "YOUR ANSWER HERE"
   ]
  },
  {
   "cell_type": "markdown",
   "id": "62310a58",
   "metadata": {
    "deletable": false,
    "editable": false,
    "nbgrader": {
     "cell_type": "markdown",
     "checksum": "99e7b51a00de4605d164b54576850221",
     "grade": false,
     "grade_id": "cell-1ead7b7f799f19c8",
     "locked": true,
     "schema_version": 3,
     "solution": false,
     "task": false
    }
   },
   "source": [
    "## (Optional) Rhythmic DMPs\n",
    "\n",
    "Follow the description of DMPs with a rhythmic canonical system to write your own implementation that allows you to learn and reproduce rhythmic DMPs."
   ]
  },
  {
   "cell_type": "code",
   "execution_count": 67,
   "id": "3ffa6aae",
   "metadata": {
    "deletable": false,
    "nbgrader": {
     "cell_type": "code",
     "checksum": "3f0bf50fee1181fd4b78869e80645d11",
     "grade": true,
     "grade_id": "cell-752626158472345e",
     "locked": false,
     "points": 0,
     "schema_version": 3,
     "solution": true,
     "task": false
    }
   },
   "outputs": [],
   "source": [
    "class RhythmicDMP(object):\n",
    "    def __init__(self):\n",
    "        # YOUR CODE HERE\n",
    "        raise NotImplementedError()\n",
    "\n",
    "    def learn(self) -> None:\n",
    "        \"\"\"Learns a rhythmic dynamic motion primitive.\n",
    "        \"\"\"\n",
    "        # YOUR CODE HERE\n",
    "        raise NotImplementedError()\n",
    "\n",
    "    def unroll(self, y0: np.ndarray) -> np.ndarray:\n",
    "        \"\"\"Generates a rhythmic path that starts at y0, following a learned DMP shape.\n",
    "\n",
    "        Keyword arguments:\n",
    "        y0: np.ndarray -- Initial state of the system\n",
    "\n",
    "        Returns a numpy array representing path waypoints.\n",
    "\n",
    "        \"\"\"\n",
    "        # YOUR CODE HERE\n",
    "        raise NotImplementedError()"
   ]
  },
  {
   "cell_type": "markdown",
   "id": "351a1a50",
   "metadata": {
    "deletable": false,
    "editable": false,
    "nbgrader": {
     "cell_type": "markdown",
     "checksum": "af51f5f3b2bda02cdb3d8510619781e2",
     "grade": false,
     "grade_id": "cell-69ebd70f3c28b618",
     "locked": true,
     "schema_version": 3,
     "solution": false,
     "task": false
    }
   },
   "source": [
    "Verify that your implementation is working correctly by experimenting with various rhythmic functions."
   ]
  },
  {
   "cell_type": "code",
   "execution_count": null,
   "id": "4ca0469e",
   "metadata": {
    "deletable": false,
    "nbgrader": {
     "cell_type": "code",
     "checksum": "f9b79ec63c89725800fbeb5f4286c099",
     "grade": true,
     "grade_id": "cell-3a2d90ce57fda7fd",
     "locked": false,
     "points": 0,
     "schema_version": 3,
     "solution": true,
     "task": false
    }
   },
   "outputs": [],
   "source": [
    "### write code to test your implementation here\n",
    "\n",
    "# YOUR CODE HERE\n",
    "raise NotImplementedError()"
   ]
  }
 ],
 "metadata": {
  "kernelspec": {
   "display_name": "Python 3 (ipykernel)",
   "language": "python",
   "name": "python3"
  },
  "language_info": {
   "codemirror_mode": {
    "name": "ipython",
    "version": 3
   },
   "file_extension": ".py",
   "mimetype": "text/x-python",
   "name": "python",
   "nbconvert_exporter": "python",
   "pygments_lexer": "ipython3",
   "version": "3.11.5"
  }
 },
 "nbformat": 4,
 "nbformat_minor": 5
}
